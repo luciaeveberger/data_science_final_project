{
  "nbformat": 4,
  "nbformat_minor": 0,
  "metadata": {
    "colab": {
      "name": "Kaggle10.ipynb",
      "provenance": [],
      "include_colab_link": true
    },
    "kernelspec": {
      "name": "python3",
      "display_name": "Python 3"
    }
  },
  "cells": [
    {
      "cell_type": "markdown",
      "metadata": {
        "id": "view-in-github",
        "colab_type": "text"
      },
      "source": [
        "<a href=\"https://colab.research.google.com/github/luciaeveberger/data_science_final_project/blob/model_dev_exploration/Kaggle10.ipynb\" target=\"_parent\"><img src=\"https://colab.research.google.com/assets/colab-badge.svg\" alt=\"Open In Colab\"/></a>"
      ]
    },
    {
      "cell_type": "code",
      "metadata": {
        "id": "m1zke37_Xn_U"
      },
      "source": [
        "import numpy as np\n",
        "import pandas as pd\n",
        "import matplotlib.pyplot as plt\n",
        "import seaborn as sns\n",
        "%matplotlib inline\n",
        "from sklearn.impute import SimpleImputer\n",
        "from sklearn.preprocessing import StandardScaler\n",
        "from sklearn.model_selection import train_test_split\n",
        "from sklearn.linear_model import LinearRegression\n",
        "from sklearn import metrics\n",
        "from sklearn.tree import DecisionTreeRegressor\n",
        "from sklearn.ensemble import RandomForestRegressor\n",
        "from sklearn.datasets import make_regression\n",
        "from keras.models import Sequential\n",
        "from keras.layers import Dense\n",
        "from keras.wrappers.scikit_learn import KerasRegressor\n",
        "from sklearn.model_selection import cross_val_score\n",
        "from sklearn.model_selection import KFold\n",
        "from sklearn import neighbors\n",
        "from sklearn.preprocessing import MinMaxScaler\n",
        "from keras.regularizers import l2\n",
        "from tensorflow.keras import regularizers\n",
        "from keras.layers import Dropout\n",
        "import tensorflow as tf\n",
        "from sklearn.svm import SVR\n",
        "from sklearn.decomposition import PCA\n",
        "import xgboost as xgb\n",
        "from sklearn.model_selection import GridSearchCV\n",
        "import dateutil"
      ],
      "execution_count": 5,
      "outputs": []
    },
    {
      "cell_type": "code",
      "metadata": {
        "colab": {
          "base_uri": "https://localhost:8080/"
        },
        "id": "muLmdJIDY9ML",
        "outputId": "f04d9368-3cb4-46bc-cb0d-5f7b5e58f5cf"
      },
      "source": [
        "from google.colab import drive\n",
        "drive.mount('/content/gdrive')"
      ],
      "execution_count": 6,
      "outputs": [
        {
          "output_type": "stream",
          "text": [
            "Mounted at /content/gdrive\n"
          ],
          "name": "stdout"
        }
      ]
    },
    {
      "cell_type": "code",
      "metadata": {
        "id": "HEESPFQkZACV"
      },
      "source": [
        "def pre_process(data):\n",
        "  # User Name column is not relevent\n",
        "  data.drop('User Name', 1,inplace=True)\n",
        "\n",
        "  # Replacing null with 0 and non-null with 1\n",
        "  data['Personal URL'] = data['Personal URL'].notnull().astype('int')\n",
        "\n",
        "  # Set --> 1 and not Set --> 0\n",
        "  data['Profile Cover Image Status'] = np.where(data['Profile Cover Image Status']=='Set', 1, 0)\n",
        "\n",
        "  # One-Hot encoding for Profile Verification Status column\n",
        "  #data = pd.get_dummies(data, columns = ['Profile Verification Status'])\n",
        "\n",
        "\n",
        "  #Frequnce encoding for Profile Verification Status column\n",
        "  enc_prof_verif = (data.groupby('Profile Verification Status').size()) / len(data)\n",
        "  data['Profile Verification Status'] = data['Profile Verification Status'].apply(lambda x : enc_prof_verif[x])\n",
        "\n",
        "  #Frequnce encoding for Color columns\n",
        "  data['Profile Theme Color'].fillna(0,inplace = True)\n",
        "  enc_color_theme = (data.groupby('Profile Theme Color').size()) / len(data)\n",
        "  data['Profile Theme Color'] = data['Profile Theme Color'].apply(lambda x : enc_color_theme[x])\n",
        "  data['Profile Text Color'].fillna(0,inplace = True)\n",
        "  enc_color_text = (data.groupby('Profile Text Color').size()) / len(data)\n",
        "  data['Profile Text Color'] = data['Profile Text Color'].apply(lambda x : enc_color_text[x])\n",
        "  data['Profile Page Color'].fillna(0,inplace = True)\n",
        "  enc_color_page = (data.groupby('Profile Page Color').size()) / len(data)\n",
        "  data['Profile Page Color'] = data['Profile Page Color'].apply(lambda x : enc_color_page[x])\n",
        "\n",
        "  # Mapping True/False --> 1/0\n",
        "  data['Is Profile View Size Customized?'] = data['Is Profile View Size Customized?'].astype(int)\n",
        "\n",
        "  # Dropping irrelevant Cols (Maybe we should use them)\n",
        "  data.drop(['UTC Offset', 'Location'], axis=1, inplace=True)\n",
        "\n",
        "  # Enabled --> 1 and Disabled or ??? --> 0\n",
        "  data['Location Public Visibility'] = np.where(data['Location Public Visibility'].str.lower() == 'enabled', 1, 0)\n",
        "\n",
        "  # Frequency encoding for user language\n",
        "  enc_user_lang = (data.groupby('User Language').size()) / len(data)\n",
        "  data['User Language'] = data['User Language'].apply(lambda x : enc_user_lang[x])\n",
        "\n",
        "  # Frequency encoding for User time zone\n",
        "  data['User Time Zone'].fillna(data['User Time Zone'].value_counts().index[0],inplace = True)\n",
        "  enc_time_zone = (data.groupby('User Time Zone').size()) / len(data)\n",
        "  data['User Time Zone'] = data['User Time Zone'].apply(lambda x : enc_time_zone[x])\n",
        "\n",
        "  # Replacing the white spaces with nan\n",
        "  data['Profile Category'] = data['Profile Category'].replace(r'^\\s*$', np.nan, regex=True)\n",
        "  # Replacing nan with 'unknown'\n",
        "  data['Profile Category'].fillna('unknown',inplace = True)\n",
        "\n",
        "  # One-hot encoding\n",
        "  #data = pd.get_dummies(data, columns = ['Profile Category'])\n",
        "\n",
        "  # Frequency encoding for profile category\n",
        "  enc_prof_cat = (data.groupby('Profile Category').size()) / len(data)\n",
        "  data['Profile Category'] = data['Profile Category'].apply(lambda x : enc_prof_cat[x])\n",
        "\n",
        "\n",
        "  # Median imputation for 'Avg Daily Profile Clicks'And'Avg Daily Profile Visit Duration in seconds'\n",
        "  imp_median = SimpleImputer( strategy='median') #for median imputation replace 'mean' with 'median'\n",
        "  imp_median.fit(data[['Avg Daily Profile Clicks','Avg Daily Profile Visit Duration in seconds']])\n",
        "  imputed_train_df = imp_median.transform(data[['Avg Daily Profile Clicks','Avg Daily Profile Visit Duration in seconds']])\n",
        "  imputed_train_df = pd.DataFrame(imputed_train_df,columns=['Avg Daily Profile Clicks','Avg Daily Profile Visit Duration in seconds'])\n",
        "  data[['Avg Daily Profile Clicks','Avg Daily Profile Visit Duration in seconds']] = imputed_train_df[['Avg Daily Profile Clicks','Avg Daily Profile Visit Duration in seconds']]\n",
        "\n",
        "  # Removing Outliers\n",
        "  # Q1 = data['Num of Followers'].quantile(0.25)\n",
        "  # Q3 = data['Num of Followers'].quantile(0.75)\n",
        "  # IQR = Q3 - Q1\n",
        "  # Q3 + 1.5 * IQR\n",
        "  # data = data[data['Num of Followers'] <(Q3 + 1.5 * IQR)]\n",
        "\n",
        "  # Making Id column as index\n",
        "  data.set_index('Id',inplace=True)\n",
        "\n",
        "  # Dropping Pic Col for now\n",
        "  data.drop('Profile Image', 1,inplace=True)\n",
        "  # Dropping Personal Url column\n",
        "  #data.drop('Personal URL', 1,inplace=True)\n",
        "\n",
        "  #Parsing Number of years until 2020\n",
        "  data['Profile Creation Timestamp'] = data['Profile Creation Timestamp'].apply(lambda x: dateutil.parser.parse(x))\n",
        "  data['Profile Creation Timestamp']=pd.DatetimeIndex(data['Profile Creation Timestamp']).year\n",
        "  data['Profile Creation Timestamp'] = 2020-data['Profile Creation Timestamp']\n",
        "\n",
        "  return data\n",
        "\n",
        "\n"
      ],
      "execution_count": 7,
      "outputs": []
    },
    {
      "cell_type": "code",
      "metadata": {
        "id": "kmeHXSkzaWl4"
      },
      "source": [
        "df_train = pre_process(pd.read_csv(\"/content/gdrive/MyDrive/ift6758-a20/train.csv\"))\n",
        "df_test = pre_process(pd.read_csv(\"/content/gdrive/MyDrive/ift6758-a20/test.csv\")) "
      ],
      "execution_count": 8,
      "outputs": []
    },
    {
      "cell_type": "code",
      "metadata": {
        "id": "1P3Dg-jNaXLZ"
      },
      "source": [
        "y_col = ['Num of Profile Likes']\n",
        "x_col = df_train.columns.difference(['Num of Profile Likes'])"
      ],
      "execution_count": 9,
      "outputs": []
    },
    {
      "cell_type": "code",
      "metadata": {
        "id": "AgqiW143aa2D"
      },
      "source": [
        "#Standardization - Train\n",
        "df_train_stand = df_train.copy()\n",
        "for i in x_col:\n",
        "    \n",
        "    # fit on training data column\n",
        "    scale = StandardScaler().fit(df_train_stand[[i]])\n",
        "    \n",
        "    # transform the training data column\n",
        "    df_train_stand[i] = scale.transform(df_train_stand[[i]])"
      ],
      "execution_count": 10,
      "outputs": []
    },
    {
      "cell_type": "code",
      "metadata": {
        "id": "hiTetDduacuN"
      },
      "source": [
        "#Standardization - Test\n",
        "df_test_stand = df_test.copy()\n",
        "for i in x_col:\n",
        "    \n",
        "    # fit on training data column\n",
        "    scale = StandardScaler().fit(df_test_stand[[i]])\n",
        "    \n",
        "    # transform the training data column\n",
        "    df_test_stand[i] = scale.transform(df_test_stand[[i]])"
      ],
      "execution_count": 11,
      "outputs": []
    },
    {
      "cell_type": "code",
      "metadata": {
        "colab": {
          "base_uri": "https://localhost:8080/"
        },
        "id": "k4rbxYpeahDR",
        "outputId": "a0a48e38-b7d5-497b-dfd4-00dad7141f68"
      },
      "source": [
        "# pearson's correlation feature selection \n",
        "from sklearn.feature_selection import SelectKBest\n",
        "from sklearn.feature_selection import f_regression\n",
        "# define feature selection\n",
        "fs = SelectKBest(score_func=f_regression, k='all')\n",
        "# apply feature selection\n",
        "X_selected = fs.fit_transform(df_train_stand[x_col], df_train_stand[y_col].values.ravel())\n",
        "names = df_train_stand[x_col].columns.values[fs.get_support()]\n",
        "scores = fs.scores_[fs.get_support()]\n",
        "names_scores = list(zip(names, scores))\n",
        "ns_df = pd.DataFrame(data = names_scores, columns=['Feat_names', 'F_Scores'])\n",
        "#Sort the dataframe for better visualization\n",
        "ns_df_sorted = ns_df.sort_values(['F_Scores', 'Feat_names'], ascending = [False, True])\n",
        "print(ns_df_sorted)"
      ],
      "execution_count": 12,
      "outputs": [
        {
          "output_type": "stream",
          "text": [
            "                                     Feat_names    F_Scores\n",
            "8                                  Personal URL  210.237773\n",
            "0                      Avg Daily Profile Clicks  162.683265\n",
            "9                              Profile Category  133.397593\n",
            "6                       Num of People Following  115.705358\n",
            "15                  Profile Verification Status   67.559534\n",
            "3                    Location Public Visibility   43.336782\n",
            "11                   Profile Creation Timestamp   28.172260\n",
            "12                           Profile Page Color   26.618781\n",
            "2              Is Profile View Size Customized?   18.128637\n",
            "7                         Num of Status Updates   14.007676\n",
            "13                           Profile Text Color   10.973332\n",
            "17                               User Time Zone    9.846833\n",
            "14                          Profile Theme Color    8.691975\n",
            "16                                User Language    2.251782\n",
            "1   Avg Daily Profile Visit Duration in seconds    1.257316\n",
            "5                              Num of Followers    0.695067\n",
            "10                   Profile Cover Image Status    0.495807\n",
            "4                        Num of Direct Messages    0.001975\n"
          ],
          "name": "stdout"
        }
      ]
    },
    {
      "cell_type": "code",
      "metadata": {
        "id": "p11ATwzVxwf2"
      },
      "source": [
        "def plot_loss(history):\n",
        "  plt.plot(history.history['loss'], label='loss')\n",
        "  plt.plot(history.history['val_loss'], label='val_loss')\n",
        "  plt.ylim([0, 10])\n",
        "  plt.xlabel('Epoch')\n",
        "  plt.ylabel('Error [MPG]')\n",
        "  plt.legend()\n",
        "  plt.grid(True)"
      ],
      "execution_count": 19,
      "outputs": []
    },
    {
      "cell_type": "code",
      "metadata": {
        "id": "9APq0f--0x6Z"
      },
      "source": [
        "input_width = 22"
      ],
      "execution_count": 37,
      "outputs": []
    },
    {
      "cell_type": "code",
      "metadata": {
        "id": "Tx_dY0njasIu"
      },
      "source": [
        "\n",
        "\n",
        "num_features = df_train_stand[x_col].shape[1]\n",
        "model = Sequential()\n",
        "model.add(Dense(input_width, activation='relu', input_dim=num_features))\n",
        "model.add(Dense(input_width, activation='relu'))\n",
        "model.add(Dense(22, activation='relu'))\n",
        "#\n",
        "model.add(Dense(1, activation='linear'))\n"
      ],
      "execution_count": 38,
      "outputs": []
    },
    {
      "cell_type": "code",
      "metadata": {
        "colab": {
          "base_uri": "https://localhost:8080/"
        },
        "id": "NyVIOZTOyWIs",
        "outputId": "a4e00191-11c4-44e6-d358-7c2a688a81dc"
      },
      "source": [
        "model.summary()"
      ],
      "execution_count": 39,
      "outputs": [
        {
          "output_type": "stream",
          "text": [
            "Model: \"sequential_7\"\n",
            "_________________________________________________________________\n",
            "Layer (type)                 Output Shape              Param #   \n",
            "=================================================================\n",
            "dense_21 (Dense)             (None, 22)                418       \n",
            "_________________________________________________________________\n",
            "dense_22 (Dense)             (None, 22)                506       \n",
            "_________________________________________________________________\n",
            "dense_23 (Dense)             (None, 22)                506       \n",
            "_________________________________________________________________\n",
            "dense_24 (Dense)             (None, 1)                 23        \n",
            "=================================================================\n",
            "Total params: 1,453\n",
            "Trainable params: 1,453\n",
            "Non-trainable params: 0\n",
            "_________________________________________________________________\n"
          ],
          "name": "stdout"
        }
      ]
    },
    {
      "cell_type": "code",
      "metadata": {
        "colab": {
          "base_uri": "https://localhost:8080/"
        },
        "id": "4ZgO_hABwaR_",
        "outputId": "292117cb-8a56-4a2b-8d8d-36598793b567"
      },
      "source": [
        "batch_size = 20\n",
        "model.compile(optimizer='adam', loss='mean_squared_logarithmic_error', metrics='mean_squared_logarithmic_error')\n",
        "history = model.fit(df_train_stand[x_col], df_train_stand[y_col], batch_size=batch_size, epochs=100,validation_split=0.3)"
      ],
      "execution_count": null,
      "outputs": [
        {
          "output_type": "stream",
          "text": [
            "Epoch 1/100\n",
            "263/263 [==============================] - 1s 2ms/step - loss: 24.4278 - mean_squared_logarithmic_error: 24.4278 - val_loss: 12.1386 - val_mean_squared_logarithmic_error: 12.1386\n",
            "Epoch 2/100\n",
            "263/263 [==============================] - 0s 2ms/step - loss: 9.0649 - mean_squared_logarithmic_error: 9.0649 - val_loss: 7.4647 - val_mean_squared_logarithmic_error: 7.4647\n",
            "Epoch 3/100\n",
            "263/263 [==============================] - 0s 2ms/step - loss: 6.3028 - mean_squared_logarithmic_error: 6.3028 - val_loss: 6.0370 - val_mean_squared_logarithmic_error: 6.0370\n",
            "Epoch 4/100\n",
            "263/263 [==============================] - 0s 2ms/step - loss: 5.2874 - mean_squared_logarithmic_error: 5.2874 - val_loss: 5.3844 - val_mean_squared_logarithmic_error: 5.3844\n",
            "Epoch 5/100\n",
            "263/263 [==============================] - 0s 2ms/step - loss: 4.7652 - mean_squared_logarithmic_error: 4.7652 - val_loss: 4.9981 - val_mean_squared_logarithmic_error: 4.9981\n",
            "Epoch 6/100\n",
            "263/263 [==============================] - 0s 2ms/step - loss: 4.4423 - mean_squared_logarithmic_error: 4.4423 - val_loss: 4.7528 - val_mean_squared_logarithmic_error: 4.7528\n",
            "Epoch 7/100\n",
            "263/263 [==============================] - 0s 2ms/step - loss: 4.2369 - mean_squared_logarithmic_error: 4.2369 - val_loss: 4.5963 - val_mean_squared_logarithmic_error: 4.5963\n",
            "Epoch 8/100\n",
            "263/263 [==============================] - 0s 2ms/step - loss: 4.1078 - mean_squared_logarithmic_error: 4.1078 - val_loss: 4.5009 - val_mean_squared_logarithmic_error: 4.5009\n",
            "Epoch 9/100\n",
            "263/263 [==============================] - 0s 2ms/step - loss: 4.0128 - mean_squared_logarithmic_error: 4.0128 - val_loss: 4.4429 - val_mean_squared_logarithmic_error: 4.4429\n",
            "Epoch 10/100\n",
            "263/263 [==============================] - 0s 2ms/step - loss: 3.9434 - mean_squared_logarithmic_error: 3.9434 - val_loss: 4.4111 - val_mean_squared_logarithmic_error: 4.4111\n",
            "Epoch 11/100\n",
            "263/263 [==============================] - 0s 2ms/step - loss: 3.8942 - mean_squared_logarithmic_error: 3.8942 - val_loss: 4.3904 - val_mean_squared_logarithmic_error: 4.3904\n",
            "Epoch 12/100\n",
            "263/263 [==============================] - 1s 2ms/step - loss: 3.8598 - mean_squared_logarithmic_error: 3.8598 - val_loss: 4.3821 - val_mean_squared_logarithmic_error: 4.3821\n",
            "Epoch 13/100\n",
            "263/263 [==============================] - 0s 2ms/step - loss: 3.8345 - mean_squared_logarithmic_error: 3.8345 - val_loss: 4.3724 - val_mean_squared_logarithmic_error: 4.3724\n",
            "Epoch 14/100\n",
            "263/263 [==============================] - 0s 2ms/step - loss: 3.8116 - mean_squared_logarithmic_error: 3.8116 - val_loss: 4.3609 - val_mean_squared_logarithmic_error: 4.3609\n",
            "Epoch 15/100\n",
            "263/263 [==============================] - 0s 2ms/step - loss: 3.7973 - mean_squared_logarithmic_error: 3.7973 - val_loss: 4.3571 - val_mean_squared_logarithmic_error: 4.3571\n",
            "Epoch 16/100\n",
            "263/263 [==============================] - 0s 2ms/step - loss: 3.7785 - mean_squared_logarithmic_error: 3.7785 - val_loss: 4.3588 - val_mean_squared_logarithmic_error: 4.3588\n",
            "Epoch 17/100\n",
            "263/263 [==============================] - 0s 2ms/step - loss: 3.7643 - mean_squared_logarithmic_error: 3.7643 - val_loss: 4.3513 - val_mean_squared_logarithmic_error: 4.3513\n",
            "Epoch 18/100\n",
            "263/263 [==============================] - 0s 2ms/step - loss: 3.7540 - mean_squared_logarithmic_error: 3.7540 - val_loss: 4.3462 - val_mean_squared_logarithmic_error: 4.3462\n",
            "Epoch 19/100\n",
            "263/263 [==============================] - 0s 2ms/step - loss: 3.7386 - mean_squared_logarithmic_error: 3.7386 - val_loss: 4.3459 - val_mean_squared_logarithmic_error: 4.3459\n",
            "Epoch 20/100\n",
            "263/263 [==============================] - 0s 2ms/step - loss: 3.7325 - mean_squared_logarithmic_error: 3.7325 - val_loss: 4.3427 - val_mean_squared_logarithmic_error: 4.3427\n",
            "Epoch 21/100\n",
            "263/263 [==============================] - 0s 2ms/step - loss: 3.7225 - mean_squared_logarithmic_error: 3.7225 - val_loss: 4.3370 - val_mean_squared_logarithmic_error: 4.3370\n",
            "Epoch 22/100\n",
            "263/263 [==============================] - 0s 2ms/step - loss: 3.7155 - mean_squared_logarithmic_error: 3.7155 - val_loss: 4.3294 - val_mean_squared_logarithmic_error: 4.3294\n",
            "Epoch 23/100\n",
            "263/263 [==============================] - 0s 2ms/step - loss: 3.7054 - mean_squared_logarithmic_error: 3.7054 - val_loss: 4.3289 - val_mean_squared_logarithmic_error: 4.3289\n",
            "Epoch 24/100\n",
            "263/263 [==============================] - 0s 2ms/step - loss: 3.7025 - mean_squared_logarithmic_error: 3.7025 - val_loss: 4.3280 - val_mean_squared_logarithmic_error: 4.3280\n",
            "Epoch 25/100\n",
            "263/263 [==============================] - 0s 2ms/step - loss: 3.6948 - mean_squared_logarithmic_error: 3.6948 - val_loss: 4.3298 - val_mean_squared_logarithmic_error: 4.3298\n",
            "Epoch 26/100\n",
            "263/263 [==============================] - 0s 2ms/step - loss: 3.6874 - mean_squared_logarithmic_error: 3.6874 - val_loss: 4.3228 - val_mean_squared_logarithmic_error: 4.3228\n",
            "Epoch 27/100\n",
            "263/263 [==============================] - 0s 2ms/step - loss: 3.6829 - mean_squared_logarithmic_error: 3.6829 - val_loss: 4.3206 - val_mean_squared_logarithmic_error: 4.3206\n",
            "Epoch 28/100\n",
            "263/263 [==============================] - 0s 2ms/step - loss: 3.6770 - mean_squared_logarithmic_error: 3.6770 - val_loss: 4.3203 - val_mean_squared_logarithmic_error: 4.3203\n",
            "Epoch 29/100\n",
            "263/263 [==============================] - 0s 2ms/step - loss: 3.6719 - mean_squared_logarithmic_error: 3.6719 - val_loss: 4.3116 - val_mean_squared_logarithmic_error: 4.3116\n",
            "Epoch 30/100\n",
            "263/263 [==============================] - 0s 2ms/step - loss: 3.6674 - mean_squared_logarithmic_error: 3.6674 - val_loss: 4.3144 - val_mean_squared_logarithmic_error: 4.3144\n",
            "Epoch 31/100\n",
            "263/263 [==============================] - 0s 2ms/step - loss: 3.6646 - mean_squared_logarithmic_error: 3.6646 - val_loss: 4.3148 - val_mean_squared_logarithmic_error: 4.3148\n",
            "Epoch 32/100\n",
            "263/263 [==============================] - 0s 2ms/step - loss: 3.6578 - mean_squared_logarithmic_error: 3.6578 - val_loss: 4.3165 - val_mean_squared_logarithmic_error: 4.3165\n",
            "Epoch 33/100\n",
            "263/263 [==============================] - 0s 2ms/step - loss: 3.6547 - mean_squared_logarithmic_error: 3.6547 - val_loss: 4.3142 - val_mean_squared_logarithmic_error: 4.3142\n",
            "Epoch 34/100\n",
            "263/263 [==============================] - 1s 2ms/step - loss: 3.6497 - mean_squared_logarithmic_error: 3.6497 - val_loss: 4.3116 - val_mean_squared_logarithmic_error: 4.3116\n",
            "Epoch 35/100\n",
            "263/263 [==============================] - 0s 2ms/step - loss: 3.6425 - mean_squared_logarithmic_error: 3.6425 - val_loss: 4.3112 - val_mean_squared_logarithmic_error: 4.3112\n",
            "Epoch 36/100\n",
            "263/263 [==============================] - 0s 2ms/step - loss: 3.6405 - mean_squared_logarithmic_error: 3.6405 - val_loss: 4.3103 - val_mean_squared_logarithmic_error: 4.3103\n",
            "Epoch 37/100\n",
            "263/263 [==============================] - 0s 2ms/step - loss: 3.6372 - mean_squared_logarithmic_error: 3.6372 - val_loss: 4.3118 - val_mean_squared_logarithmic_error: 4.3118\n",
            "Epoch 38/100\n",
            "263/263 [==============================] - 0s 2ms/step - loss: 3.6327 - mean_squared_logarithmic_error: 3.6327 - val_loss: 4.3156 - val_mean_squared_logarithmic_error: 4.3156\n",
            "Epoch 39/100\n",
            "263/263 [==============================] - 1s 2ms/step - loss: 3.6284 - mean_squared_logarithmic_error: 3.6284 - val_loss: 4.3118 - val_mean_squared_logarithmic_error: 4.3118\n",
            "Epoch 40/100\n",
            "263/263 [==============================] - 0s 2ms/step - loss: 3.6231 - mean_squared_logarithmic_error: 3.6231 - val_loss: 4.3111 - val_mean_squared_logarithmic_error: 4.3111\n",
            "Epoch 41/100\n",
            "263/263 [==============================] - 0s 2ms/step - loss: 3.6188 - mean_squared_logarithmic_error: 3.6188 - val_loss: 4.3130 - val_mean_squared_logarithmic_error: 4.3130\n",
            "Epoch 42/100\n",
            "263/263 [==============================] - 0s 2ms/step - loss: 3.6161 - mean_squared_logarithmic_error: 3.6161 - val_loss: 4.3119 - val_mean_squared_logarithmic_error: 4.3119\n",
            "Epoch 43/100\n",
            "263/263 [==============================] - 0s 2ms/step - loss: 3.6156 - mean_squared_logarithmic_error: 3.6156 - val_loss: 4.3148 - val_mean_squared_logarithmic_error: 4.3148\n",
            "Epoch 44/100\n",
            "263/263 [==============================] - 0s 2ms/step - loss: 3.6086 - mean_squared_logarithmic_error: 3.6086 - val_loss: 4.3150 - val_mean_squared_logarithmic_error: 4.3150\n",
            "Epoch 45/100\n",
            "263/263 [==============================] - 0s 2ms/step - loss: 3.6081 - mean_squared_logarithmic_error: 3.6081 - val_loss: 4.3166 - val_mean_squared_logarithmic_error: 4.3166\n",
            "Epoch 46/100\n",
            "263/263 [==============================] - 0s 2ms/step - loss: 3.6035 - mean_squared_logarithmic_error: 3.6035 - val_loss: 4.3090 - val_mean_squared_logarithmic_error: 4.3090\n",
            "Epoch 47/100\n",
            "263/263 [==============================] - 0s 2ms/step - loss: 3.6016 - mean_squared_logarithmic_error: 3.6016 - val_loss: 4.3162 - val_mean_squared_logarithmic_error: 4.3162\n",
            "Epoch 48/100\n",
            "263/263 [==============================] - 0s 2ms/step - loss: 3.6008 - mean_squared_logarithmic_error: 3.6008 - val_loss: 4.3152 - val_mean_squared_logarithmic_error: 4.3152\n",
            "Epoch 49/100\n",
            "263/263 [==============================] - 1s 2ms/step - loss: 3.5984 - mean_squared_logarithmic_error: 3.5984 - val_loss: 4.3214 - val_mean_squared_logarithmic_error: 4.3214\n",
            "Epoch 50/100\n",
            "263/263 [==============================] - 0s 2ms/step - loss: 3.5955 - mean_squared_logarithmic_error: 3.5955 - val_loss: 4.3175 - val_mean_squared_logarithmic_error: 4.3175\n",
            "Epoch 51/100\n",
            "263/263 [==============================] - 0s 2ms/step - loss: 3.5926 - mean_squared_logarithmic_error: 3.5926 - val_loss: 4.3118 - val_mean_squared_logarithmic_error: 4.3118\n",
            "Epoch 52/100\n",
            "263/263 [==============================] - 0s 2ms/step - loss: 3.5855 - mean_squared_logarithmic_error: 3.5855 - val_loss: 4.3234 - val_mean_squared_logarithmic_error: 4.3234\n",
            "Epoch 53/100\n",
            "263/263 [==============================] - 0s 2ms/step - loss: 3.5849 - mean_squared_logarithmic_error: 3.5849 - val_loss: 4.3233 - val_mean_squared_logarithmic_error: 4.3233\n",
            "Epoch 54/100\n",
            "263/263 [==============================] - 0s 2ms/step - loss: 3.5803 - mean_squared_logarithmic_error: 3.5803 - val_loss: 4.3176 - val_mean_squared_logarithmic_error: 4.3176\n",
            "Epoch 55/100\n",
            "263/263 [==============================] - 0s 2ms/step - loss: 3.5784 - mean_squared_logarithmic_error: 3.5784 - val_loss: 4.3198 - val_mean_squared_logarithmic_error: 4.3198\n",
            "Epoch 56/100\n",
            "263/263 [==============================] - 0s 2ms/step - loss: 3.5751 - mean_squared_logarithmic_error: 3.5751 - val_loss: 4.3214 - val_mean_squared_logarithmic_error: 4.3214\n",
            "Epoch 57/100\n",
            "263/263 [==============================] - 0s 2ms/step - loss: 3.5749 - mean_squared_logarithmic_error: 3.5749 - val_loss: 4.3176 - val_mean_squared_logarithmic_error: 4.3176\n",
            "Epoch 58/100\n",
            "263/263 [==============================] - 0s 2ms/step - loss: 3.5706 - mean_squared_logarithmic_error: 3.5706 - val_loss: 4.3155 - val_mean_squared_logarithmic_error: 4.3155\n",
            "Epoch 59/100\n",
            "263/263 [==============================] - 0s 2ms/step - loss: 3.5679 - mean_squared_logarithmic_error: 3.5679 - val_loss: 4.3334 - val_mean_squared_logarithmic_error: 4.3334\n",
            "Epoch 60/100\n",
            "263/263 [==============================] - 0s 2ms/step - loss: 3.5638 - mean_squared_logarithmic_error: 3.5638 - val_loss: 4.3302 - val_mean_squared_logarithmic_error: 4.3302\n",
            "Epoch 61/100\n",
            "263/263 [==============================] - 0s 2ms/step - loss: 3.5623 - mean_squared_logarithmic_error: 3.5623 - val_loss: 4.3274 - val_mean_squared_logarithmic_error: 4.3274\n",
            "Epoch 62/100\n",
            "263/263 [==============================] - 1s 2ms/step - loss: 3.5622 - mean_squared_logarithmic_error: 3.5622 - val_loss: 4.3185 - val_mean_squared_logarithmic_error: 4.3185\n",
            "Epoch 63/100\n",
            "263/263 [==============================] - 0s 2ms/step - loss: 3.5563 - mean_squared_logarithmic_error: 3.5563 - val_loss: 4.3188 - val_mean_squared_logarithmic_error: 4.3188\n",
            "Epoch 64/100\n",
            "263/263 [==============================] - 1s 2ms/step - loss: 3.5547 - mean_squared_logarithmic_error: 3.5547 - val_loss: 4.3290 - val_mean_squared_logarithmic_error: 4.3290\n",
            "Epoch 65/100\n",
            "263/263 [==============================] - 0s 2ms/step - loss: 3.5501 - mean_squared_logarithmic_error: 3.5501 - val_loss: 4.3193 - val_mean_squared_logarithmic_error: 4.3193\n",
            "Epoch 66/100\n",
            "263/263 [==============================] - 0s 2ms/step - loss: 3.5536 - mean_squared_logarithmic_error: 3.5536 - val_loss: 4.3243 - val_mean_squared_logarithmic_error: 4.3243\n",
            "Epoch 67/100\n",
            "263/263 [==============================] - 1s 2ms/step - loss: 3.5462 - mean_squared_logarithmic_error: 3.5462 - val_loss: 4.3316 - val_mean_squared_logarithmic_error: 4.3316\n",
            "Epoch 68/100\n",
            "263/263 [==============================] - 0s 2ms/step - loss: 3.5430 - mean_squared_logarithmic_error: 3.5430 - val_loss: 4.3369 - val_mean_squared_logarithmic_error: 4.3369\n",
            "Epoch 69/100\n",
            "263/263 [==============================] - 0s 2ms/step - loss: 3.5440 - mean_squared_logarithmic_error: 3.5440 - val_loss: 4.3275 - val_mean_squared_logarithmic_error: 4.3275\n",
            "Epoch 70/100\n",
            "263/263 [==============================] - 0s 2ms/step - loss: 3.5376 - mean_squared_logarithmic_error: 3.5376 - val_loss: 4.3302 - val_mean_squared_logarithmic_error: 4.3302\n",
            "Epoch 71/100\n",
            "263/263 [==============================] - 0s 2ms/step - loss: 3.5373 - mean_squared_logarithmic_error: 3.5373 - val_loss: 4.3437 - val_mean_squared_logarithmic_error: 4.3437\n",
            "Epoch 72/100\n",
            "263/263 [==============================] - 0s 2ms/step - loss: 3.5358 - mean_squared_logarithmic_error: 3.5358 - val_loss: 4.3391 - val_mean_squared_logarithmic_error: 4.3391\n",
            "Epoch 73/100\n",
            "263/263 [==============================] - 0s 2ms/step - loss: 3.5337 - mean_squared_logarithmic_error: 3.5337 - val_loss: 4.3474 - val_mean_squared_logarithmic_error: 4.3474\n",
            "Epoch 74/100\n",
            "263/263 [==============================] - 1s 2ms/step - loss: 3.5305 - mean_squared_logarithmic_error: 3.5305 - val_loss: 4.3427 - val_mean_squared_logarithmic_error: 4.3427\n",
            "Epoch 75/100\n",
            "263/263 [==============================] - 1s 2ms/step - loss: 3.5312 - mean_squared_logarithmic_error: 3.5312 - val_loss: 4.3399 - val_mean_squared_logarithmic_error: 4.3399\n",
            "Epoch 76/100\n",
            "263/263 [==============================] - 0s 2ms/step - loss: 3.5270 - mean_squared_logarithmic_error: 3.5270 - val_loss: 4.3433 - val_mean_squared_logarithmic_error: 4.3433\n",
            "Epoch 77/100\n",
            "263/263 [==============================] - 0s 2ms/step - loss: 3.5235 - mean_squared_logarithmic_error: 3.5235 - val_loss: 4.3426 - val_mean_squared_logarithmic_error: 4.3426\n",
            "Epoch 78/100\n",
            "263/263 [==============================] - 0s 2ms/step - loss: 3.5211 - mean_squared_logarithmic_error: 3.5211 - val_loss: 4.3520 - val_mean_squared_logarithmic_error: 4.3520\n",
            "Epoch 79/100\n",
            "263/263 [==============================] - 0s 2ms/step - loss: 3.5219 - mean_squared_logarithmic_error: 3.5219 - val_loss: 4.3440 - val_mean_squared_logarithmic_error: 4.3440\n",
            "Epoch 80/100\n",
            "263/263 [==============================] - 0s 2ms/step - loss: 3.5165 - mean_squared_logarithmic_error: 3.5165 - val_loss: 4.3436 - val_mean_squared_logarithmic_error: 4.3436\n",
            "Epoch 81/100\n",
            "263/263 [==============================] - 0s 2ms/step - loss: 3.5172 - mean_squared_logarithmic_error: 3.5172 - val_loss: 4.3512 - val_mean_squared_logarithmic_error: 4.3512\n",
            "Epoch 82/100\n",
            "263/263 [==============================] - 0s 2ms/step - loss: 3.5117 - mean_squared_logarithmic_error: 3.5117 - val_loss: 4.3507 - val_mean_squared_logarithmic_error: 4.3507\n",
            "Epoch 83/100\n",
            "263/263 [==============================] - 0s 2ms/step - loss: 3.5116 - mean_squared_logarithmic_error: 3.5116 - val_loss: 4.3538 - val_mean_squared_logarithmic_error: 4.3538\n",
            "Epoch 84/100\n",
            "263/263 [==============================] - 0s 2ms/step - loss: 3.5087 - mean_squared_logarithmic_error: 3.5087 - val_loss: 4.3547 - val_mean_squared_logarithmic_error: 4.3547\n",
            "Epoch 85/100\n",
            "263/263 [==============================] - 0s 2ms/step - loss: 3.5023 - mean_squared_logarithmic_error: 3.5023 - val_loss: 4.3561 - val_mean_squared_logarithmic_error: 4.3561\n",
            "Epoch 86/100\n",
            "263/263 [==============================] - 0s 2ms/step - loss: 3.5010 - mean_squared_logarithmic_error: 3.5010 - val_loss: 4.3576 - val_mean_squared_logarithmic_error: 4.3576\n",
            "Epoch 87/100\n",
            "263/263 [==============================] - 0s 2ms/step - loss: 3.5003 - mean_squared_logarithmic_error: 3.5003 - val_loss: 4.3545 - val_mean_squared_logarithmic_error: 4.3545\n",
            "Epoch 88/100\n",
            "263/263 [==============================] - 0s 2ms/step - loss: 3.4969 - mean_squared_logarithmic_error: 3.4969 - val_loss: 4.3589 - val_mean_squared_logarithmic_error: 4.3589\n",
            "Epoch 89/100\n",
            "263/263 [==============================] - 0s 2ms/step - loss: 3.4965 - mean_squared_logarithmic_error: 3.4965 - val_loss: 4.3650 - val_mean_squared_logarithmic_error: 4.3650\n",
            "Epoch 90/100\n",
            "263/263 [==============================] - 0s 2ms/step - loss: 3.4947 - mean_squared_logarithmic_error: 3.4947 - val_loss: 4.3561 - val_mean_squared_logarithmic_error: 4.3561\n",
            "Epoch 91/100\n",
            "263/263 [==============================] - 0s 2ms/step - loss: 3.4920 - mean_squared_logarithmic_error: 3.4920 - val_loss: 4.3666 - val_mean_squared_logarithmic_error: 4.3666\n",
            "Epoch 92/100\n",
            "263/263 [==============================] - 0s 2ms/step - loss: 3.4880 - mean_squared_logarithmic_error: 3.4880 - val_loss: 4.3703 - val_mean_squared_logarithmic_error: 4.3703\n",
            "Epoch 93/100\n",
            "263/263 [==============================] - 1s 2ms/step - loss: 3.4861 - mean_squared_logarithmic_error: 3.4861 - val_loss: 4.3629 - val_mean_squared_logarithmic_error: 4.3629\n",
            "Epoch 94/100\n",
            "263/263 [==============================] - 0s 2ms/step - loss: 3.4818 - mean_squared_logarithmic_error: 3.4818 - val_loss: 4.3696 - val_mean_squared_logarithmic_error: 4.3696\n",
            "Epoch 95/100\n",
            " 30/263 [==>...........................] - ETA: 0s - loss: 3.5635 - mean_squared_logarithmic_error: 3.5635"
          ],
          "name": "stdout"
        }
      ]
    },
    {
      "cell_type": "code",
      "metadata": {
        "colab": {
          "base_uri": "https://localhost:8080/",
          "height": 283
        },
        "id": "2x7_v_tMx1pd",
        "outputId": "f81af59b-78de-4ace-d565-b77912ad415d"
      },
      "source": [
        "plot_loss(history)"
      ],
      "execution_count": 35,
      "outputs": [
        {
          "output_type": "display_data",
          "data": {
            "image/png": "[encoded data removed]",
            "text/plain": [
              "<Figure size 432x288 with 1 Axes>"
            ]
          },
          "metadata": {
            "tags": [],
            "needs_background": "light"
          }
        }
      ]
    },
    {
      "cell_type": "code",
      "metadata": {
        "id": "2MWkdHYIbWtN",
        "colab": {
          "base_uri": "https://localhost:8080/"
        },
        "outputId": "51ad2247-0964-420f-8875-82f37d02889b"
      },
      "source": [
        "# Submission file\n",
        "y_pred = model.predict(df_test_stand[x_col])\n",
        "dummy = pd.DataFrame()\n",
        "dummy[\"Id\"] = df_test.index\n",
        "dummy[\"Predicted\"]=y_pred\n",
        "dummy.to_csv(\"submission.csv\", sep=',' ,index=False)\n",
        "len(y_pred)"
      ],
      "execution_count": 22,
      "outputs": [
        {
          "output_type": "execute_result",
          "data": {
            "text/plain": [
              "2500"
            ]
          },
          "metadata": {
            "tags": []
          },
          "execution_count": 22
        }
      ]
    },
    {
      "cell_type": "code",
      "metadata": {
        "id": "fW-4tO8lyQw7"
      },
      "source": [
        ""
      ],
      "execution_count": null,
      "outputs": []
    }
  ]
}