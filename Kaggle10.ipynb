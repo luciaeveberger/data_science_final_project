{
  "nbformat": 4,
  "nbformat_minor": 0,
  "metadata": {
    "colab": {
      "name": "Kaggle10.ipynb",
      "provenance": [],
      "include_colab_link": true
    },
    "kernelspec": {
      "name": "python3",
      "display_name": "Python 3"
    }
  },
  "cells": [
    {
      "cell_type": "markdown",
      "metadata": {
        "id": "view-in-github",
        "colab_type": "text"
      },
      "source": [
        "<a href=\"https://colab.research.google.com/github/luciaeveberger/data_science_final_project/blob/model_dev_exploration/Kaggle10.ipynb\" target=\"_parent\"><img src=\"https://colab.research.google.com/assets/colab-badge.svg\" alt=\"Open In Colab\"/></a>"
      ]
    },
    {
      "cell_type": "code",
      "metadata": {
        "id": "m1zke37_Xn_U"
      },
      "source": [
        "import numpy as np\n",
        "import pandas as pd\n",
        "import matplotlib.pyplot as plt\n",
        "import seaborn as sns\n",
        "%matplotlib inline\n",
        "from sklearn.impute import SimpleImputer\n",
        "from sklearn.preprocessing import StandardScaler\n",
        "from sklearn.model_selection import train_test_split\n",
        "from sklearn.linear_model import LinearRegression\n",
        "from sklearn import metrics\n",
        "from sklearn.tree import DecisionTreeRegressor\n",
        "from sklearn.ensemble import RandomForestRegressor\n",
        "from sklearn.datasets import make_regression\n",
        "from keras.models import Sequential\n",
        "from keras.layers import Dense\n",
        "from keras.wrappers.scikit_learn import KerasRegressor\n",
        "from sklearn.model_selection import cross_val_score\n",
        "from sklearn.model_selection import KFold\n",
        "from sklearn import neighbors\n",
        "from sklearn.preprocessing import MinMaxScaler\n",
        "from keras.regularizers import l2\n",
        "from tensorflow.keras import regularizers\n",
        "from keras.layers import Dropout\n",
        "import tensorflow as tf\n",
        "from sklearn.svm import SVR\n",
        "from sklearn.decomposition import PCA\n",
        "import xgboost as xgb\n",
        "from sklearn.model_selection import GridSearchCV\n",
        "import dateutil"
      ],
      "execution_count": 5,
      "outputs": []
    },
    {
      "cell_type": "code",
      "metadata": {
        "colab": {
          "base_uri": "https://localhost:8080/"
        },
        "id": "muLmdJIDY9ML",
        "outputId": "f04d9368-3cb4-46bc-cb0d-5f7b5e58f5cf"
      },
      "source": [
        "from google.colab import drive\n",
        "drive.mount('/content/gdrive')"
      ],
      "execution_count": 6,
      "outputs": [
        {
          "output_type": "stream",
          "text": [
            "Mounted at /content/gdrive\n"
          ],
          "name": "stdout"
        }
      ]
    },
    {
      "cell_type": "code",
      "metadata": {
        "id": "HEESPFQkZACV"
      },
      "source": [
        "def pre_process(data):\n",
        "  # User Name column is not relevent\n",
        "  data.drop('User Name', 1,inplace=True)\n",
        "\n",
        "  # Replacing null with 0 and non-null with 1\n",
        "  data['Personal URL'] = data['Personal URL'].notnull().astype('int')\n",
        "\n",
        "  # Set --> 1 and not Set --> 0\n",
        "  data['Profile Cover Image Status'] = np.where(data['Profile Cover Image Status']=='Set', 1, 0)\n",
        "\n",
        "  # One-Hot encoding for Profile Verification Status column\n",
        "  #data = pd.get_dummies(data, columns = ['Profile Verification Status'])\n",
        "\n",
        "\n",
        "  #Frequnce encoding for Profile Verification Status column\n",
        "  enc_prof_verif = (data.groupby('Profile Verification Status').size()) / len(data)\n",
        "  data['Profile Verification Status'] = data['Profile Verification Status'].apply(lambda x : enc_prof_verif[x])\n",
        "\n",
        "  #Frequnce encoding for Color columns\n",
        "  data['Profile Theme Color'].fillna(0,inplace = True)\n",
        "  enc_color_theme = (data.groupby('Profile Theme Color').size()) / len(data)\n",
        "  data['Profile Theme Color'] = data['Profile Theme Color'].apply(lambda x : enc_color_theme[x])\n",
        "  data['Profile Text Color'].fillna(0,inplace = True)\n",
        "  enc_color_text = (data.groupby('Profile Text Color').size()) / len(data)\n",
        "  data['Profile Text Color'] = data['Profile Text Color'].apply(lambda x : enc_color_text[x])\n",
        "  data['Profile Page Color'].fillna(0,inplace = True)\n",
        "  enc_color_page = (data.groupby('Profile Page Color').size()) / len(data)\n",
        "  data['Profile Page Color'] = data['Profile Page Color'].apply(lambda x : enc_color_page[x])\n",
        "\n",
        "  # Mapping True/False --> 1/0\n",
        "  data['Is Profile View Size Customized?'] = data['Is Profile View Size Customized?'].astype(int)\n",
        "\n",
        "  # Dropping irrelevant Cols (Maybe we should use them)\n",
        "  data.drop(['UTC Offset', 'Location'], axis=1, inplace=True)\n",
        "\n",
        "  # Enabled --> 1 and Disabled or ??? --> 0\n",
        "  data['Location Public Visibility'] = np.where(data['Location Public Visibility'].str.lower() == 'enabled', 1, 0)\n",
        "\n",
        "  # Frequency encoding for user language\n",
        "  enc_user_lang = (data.groupby('User Language').size()) / len(data)\n",
        "  data['User Language'] = data['User Language'].apply(lambda x : enc_user_lang[x])\n",
        "\n",
        "  # Frequency encoding for User time zone\n",
        "  data['User Time Zone'].fillna(data['User Time Zone'].value_counts().index[0],inplace = True)\n",
        "  enc_time_zone = (data.groupby('User Time Zone').size()) / len(data)\n",
        "  data['User Time Zone'] = data['User Time Zone'].apply(lambda x : enc_time_zone[x])\n",
        "\n",
        "  # Replacing the white spaces with nan\n",
        "  data['Profile Category'] = data['Profile Category'].replace(r'^\\s*$', np.nan, regex=True)\n",
        "  # Replacing nan with 'unknown'\n",
        "  data['Profile Category'].fillna('unknown',inplace = True)\n",
        "\n",
        "  # One-hot encoding\n",
        "  #data = pd.get_dummies(data, columns = ['Profile Category'])\n",
        "\n",
        "  # Frequency encoding for profile category\n",
        "  enc_prof_cat = (data.groupby('Profile Category').size()) / len(data)\n",
        "  data['Profile Category'] = data['Profile Category'].apply(lambda x : enc_prof_cat[x])\n",
        "\n",
        "\n",
        "  # Median imputation for 'Avg Daily Profile Clicks'And'Avg Daily Profile Visit Duration in seconds'\n",
        "  imp_median = SimpleImputer( strategy='median') #for median imputation replace 'mean' with 'median'\n",
        "  imp_median.fit(data[['Avg Daily Profile Clicks','Avg Daily Profile Visit Duration in seconds']])\n",
        "  imputed_train_df = imp_median.transform(data[['Avg Daily Profile Clicks','Avg Daily Profile Visit Duration in seconds']])\n",
        "  imputed_train_df = pd.DataFrame(imputed_train_df,columns=['Avg Daily Profile Clicks','Avg Daily Profile Visit Duration in seconds'])\n",
        "  data[['Avg Daily Profile Clicks','Avg Daily Profile Visit Duration in seconds']] = imputed_train_df[['Avg Daily Profile Clicks','Avg Daily Profile Visit Duration in seconds']]\n",
        "\n",
        "  # Removing Outliers\n",
        "  # Q1 = data['Num of Followers'].quantile(0.25)\n",
        "  # Q3 = data['Num of Followers'].quantile(0.75)\n",
        "  # IQR = Q3 - Q1\n",
        "  # Q3 + 1.5 * IQR\n",
        "  # data = data[data['Num of Followers'] <(Q3 + 1.5 * IQR)]\n",
        "\n",
        "  # Making Id column as index\n",
        "  data.set_index('Id',inplace=True)\n",
        "\n",
        "  # Dropping Pic Col for now\n",
        "  data.drop('Profile Image', 1,inplace=True)\n",
        "  # Dropping Personal Url column\n",
        "  #data.drop('Personal URL', 1,inplace=True)\n",
        "\n",
        "  #Parsing Number of years until 2020\n",
        "  data['Profile Creation Timestamp'] = data['Profile Creation Timestamp'].apply(lambda x: dateutil.parser.parse(x))\n",
        "  data['Profile Creation Timestamp']=pd.DatetimeIndex(data['Profile Creation Timestamp']).year\n",
        "  data['Profile Creation Timestamp'] = 2020-data['Profile Creation Timestamp']\n",
        "\n",
        "  return data\n",
        "\n",
        "\n"
      ],
      "execution_count": 7,
      "outputs": []
    },
    {
      "cell_type": "code",
      "metadata": {
        "id": "kmeHXSkzaWl4"
      },
      "source": [
        "df_train = pre_process(pd.read_csv(\"/content/gdrive/MyDrive/ift6758-a20/train.csv\"))\n",
        "df_test = pre_process(pd.read_csv(\"/content/gdrive/MyDrive/ift6758-a20/test.csv\")) "
      ],
      "execution_count": 8,
      "outputs": []
    },
    {
      "cell_type": "code",
      "metadata": {
        "id": "1P3Dg-jNaXLZ"
      },
      "source": [
        "y_col = ['Num of Profile Likes']\n",
        "x_col = df_train.columns.difference(['Num of Profile Likes'])"
      ],
      "execution_count": 9,
      "outputs": []
    },
    {
      "cell_type": "code",
      "metadata": {
        "id": "AgqiW143aa2D"
      },
      "source": [
        "#Standardization - Train\n",
        "df_train_stand = df_train.copy()\n",
        "for i in x_col:\n",
        "    \n",
        "    # fit on training data column\n",
        "    scale = StandardScaler().fit(df_train_stand[[i]])\n",
        "    \n",
        "    # transform the training data column\n",
        "    df_train_stand[i] = scale.transform(df_train_stand[[i]])"
      ],
      "execution_count": 10,
      "outputs": []
    },
    {
      "cell_type": "code",
      "metadata": {
        "id": "hiTetDduacuN"
      },
      "source": [
        "#Standardization - Test\n",
        "df_test_stand = df_test.copy()\n",
        "for i in x_col:\n",
        "    \n",
        "    # fit on training data column\n",
        "    scale = StandardScaler().fit(df_test_stand[[i]])\n",
        "    \n",
        "    # transform the training data column\n",
        "    df_test_stand[i] = scale.transform(df_test_stand[[i]])"
      ],
      "execution_count": 11,
      "outputs": []
    },
    {
      "cell_type": "code",
      "metadata": {
        "colab": {
          "base_uri": "https://localhost:8080/"
        },
        "id": "k4rbxYpeahDR",
        "outputId": "a0a48e38-b7d5-497b-dfd4-00dad7141f68"
      },
      "source": [
        "# pearson's correlation feature selection \n",
        "from sklearn.feature_selection import SelectKBest\n",
        "from sklearn.feature_selection import f_regression\n",
        "# define feature selection\n",
        "fs = SelectKBest(score_func=f_regression, k='all')\n",
        "# apply feature selection\n",
        "X_selected = fs.fit_transform(df_train_stand[x_col], df_train_stand[y_col].values.ravel())\n",
        "names = df_train_stand[x_col].columns.values[fs.get_support()]\n",
        "scores = fs.scores_[fs.get_support()]\n",
        "names_scores = list(zip(names, scores))\n",
        "ns_df = pd.DataFrame(data = names_scores, columns=['Feat_names', 'F_Scores'])\n",
        "#Sort the dataframe for better visualization\n",
        "ns_df_sorted = ns_df.sort_values(['F_Scores', 'Feat_names'], ascending = [False, True])\n",
        "print(ns_df_sorted)"
      ],
      "execution_count": 12,
      "outputs": [
        {
          "output_type": "stream",
          "text": [
            "                                     Feat_names    F_Scores\n",
            "8                                  Personal URL  210.237773\n",
            "0                      Avg Daily Profile Clicks  162.683265\n",
            "9                              Profile Category  133.397593\n",
            "6                       Num of People Following  115.705358\n",
            "15                  Profile Verification Status   67.559534\n",
            "3                    Location Public Visibility   43.336782\n",
            "11                   Profile Creation Timestamp   28.172260\n",
            "12                           Profile Page Color   26.618781\n",
            "2              Is Profile View Size Customized?   18.128637\n",
            "7                         Num of Status Updates   14.007676\n",
            "13                           Profile Text Color   10.973332\n",
            "17                               User Time Zone    9.846833\n",
            "14                          Profile Theme Color    8.691975\n",
            "16                                User Language    2.251782\n",
            "1   Avg Daily Profile Visit Duration in seconds    1.257316\n",
            "5                              Num of Followers    0.695067\n",
            "10                   Profile Cover Image Status    0.495807\n",
            "4                        Num of Direct Messages    0.001975\n"
          ],
          "name": "stdout"
        }
      ]
    },
    {
      "cell_type": "code",
      "metadata": {
        "id": "p11ATwzVxwf2"
      },
      "source": [
        "def plot_loss(history):\n",
        "  plt.plot(history.history['loss'], label='loss')\n",
        "  plt.plot(history.history['val_loss'], label='val_loss')\n",
        "  plt.ylim([0, 10])\n",
        "  plt.xlabel('Epoch')\n",
        "  plt.ylabel('Error [MPG]')\n",
        "  plt.legend()\n",
        "  plt.grid(True)"
      ],
      "execution_count": 19,
      "outputs": []
    },
    {
      "cell_type": "code",
      "metadata": {
        "id": "Tx_dY0njasIu"
      },
      "source": [
        "num_features = df_train_stand[x_col].shape[1]\n",
        "model = Sequential()\n",
        "model.add(Dense(22, activation='relu', input_dim=num_features))\n",
        "model.add(Dense(22, activation='relu'))\n",
        "#\n",
        "model.add(Dense(1, kernel_initializer='normal'))\n"
      ],
      "execution_count": 17,
      "outputs": []
    },
    {
      "cell_type": "code",
      "metadata": {
        "colab": {
          "base_uri": "https://localhost:8080/"
        },
        "id": "NyVIOZTOyWIs",
        "outputId": "66de9850-3dd9-4af0-b7e9-3bf0918944e3"
      },
      "source": [
        "model.summary()"
      ],
      "execution_count": 23,
      "outputs": [
        {
          "output_type": "stream",
          "text": [
            "Model: \"sequential_2\"\n",
            "_________________________________________________________________\n",
            "Layer (type)                 Output Shape              Param #   \n",
            "=================================================================\n",
            "dense_6 (Dense)              (None, 22)                418       \n",
            "_________________________________________________________________\n",
            "dense_7 (Dense)              (None, 22)                506       \n",
            "_________________________________________________________________\n",
            "dense_8 (Dense)              (None, 1)                 23        \n",
            "=================================================================\n",
            "Total params: 947\n",
            "Trainable params: 947\n",
            "Non-trainable params: 0\n",
            "_________________________________________________________________\n"
          ],
          "name": "stdout"
        }
      ]
    },
    {
      "cell_type": "code",
      "metadata": {
        "colab": {
          "base_uri": "https://localhost:8080/"
        },
        "id": "4ZgO_hABwaR_",
        "outputId": "72e1c206-7f1c-44e8-cb3b-fadc451e17cb"
      },
      "source": [
        "batch_size = 20\n",
        "model.compile(optimizer='adam', loss='mean_squared_logarithmic_error', metrics='mean_squared_logarithmic_error')\n",
        "history = model.fit(df_train_stand[x_col], df_train_stand[y_col], batch_size=batch_size, epochs=100,validation_split=0.3)"
      ],
      "execution_count": 20,
      "outputs": [
        {
          "output_type": "stream",
          "text": [
            "Epoch 1/100\n",
            "263/263 [==============================] - 1s 3ms/step - loss: 3.5931 - mean_squared_logarithmic_error: 3.5931 - val_loss: 4.3680 - val_mean_squared_logarithmic_error: 4.3680\n",
            "Epoch 2/100\n",
            "263/263 [==============================] - 0s 2ms/step - loss: 3.5888 - mean_squared_logarithmic_error: 3.5888 - val_loss: 4.3668 - val_mean_squared_logarithmic_error: 4.3668\n",
            "Epoch 3/100\n",
            "263/263 [==============================] - 0s 2ms/step - loss: 3.5870 - mean_squared_logarithmic_error: 3.5870 - val_loss: 4.3708 - val_mean_squared_logarithmic_error: 4.3708\n",
            "Epoch 4/100\n",
            "263/263 [==============================] - 1s 2ms/step - loss: 3.5864 - mean_squared_logarithmic_error: 3.5864 - val_loss: 4.3681 - val_mean_squared_logarithmic_error: 4.3681\n",
            "Epoch 5/100\n",
            "263/263 [==============================] - 1s 2ms/step - loss: 3.5839 - mean_squared_logarithmic_error: 3.5839 - val_loss: 4.3664 - val_mean_squared_logarithmic_error: 4.3664\n",
            "Epoch 6/100\n",
            "263/263 [==============================] - 0s 2ms/step - loss: 3.5834 - mean_squared_logarithmic_error: 3.5834 - val_loss: 4.3760 - val_mean_squared_logarithmic_error: 4.3760\n",
            "Epoch 7/100\n",
            "263/263 [==============================] - 1s 2ms/step - loss: 3.5813 - mean_squared_logarithmic_error: 3.5813 - val_loss: 4.3711 - val_mean_squared_logarithmic_error: 4.3711\n",
            "Epoch 8/100\n",
            "263/263 [==============================] - 1s 2ms/step - loss: 3.5808 - mean_squared_logarithmic_error: 3.5808 - val_loss: 4.3721 - val_mean_squared_logarithmic_error: 4.3721\n",
            "Epoch 9/100\n",
            "263/263 [==============================] - 0s 2ms/step - loss: 3.5787 - mean_squared_logarithmic_error: 3.5787 - val_loss: 4.3747 - val_mean_squared_logarithmic_error: 4.3747\n",
            "Epoch 10/100\n",
            "263/263 [==============================] - 0s 2ms/step - loss: 3.5766 - mean_squared_logarithmic_error: 3.5766 - val_loss: 4.3722 - val_mean_squared_logarithmic_error: 4.3722\n",
            "Epoch 11/100\n",
            "263/263 [==============================] - 1s 2ms/step - loss: 3.5735 - mean_squared_logarithmic_error: 3.5735 - val_loss: 4.3731 - val_mean_squared_logarithmic_error: 4.3731\n",
            "Epoch 12/100\n",
            "263/263 [==============================] - 1s 2ms/step - loss: 3.5735 - mean_squared_logarithmic_error: 3.5735 - val_loss: 4.3676 - val_mean_squared_logarithmic_error: 4.3676\n",
            "Epoch 13/100\n",
            "263/263 [==============================] - 1s 2ms/step - loss: 3.5730 - mean_squared_logarithmic_error: 3.5730 - val_loss: 4.3675 - val_mean_squared_logarithmic_error: 4.3675\n",
            "Epoch 14/100\n",
            "263/263 [==============================] - 1s 2ms/step - loss: 3.5736 - mean_squared_logarithmic_error: 3.5736 - val_loss: 4.3673 - val_mean_squared_logarithmic_error: 4.3673\n",
            "Epoch 15/100\n",
            "263/263 [==============================] - 1s 2ms/step - loss: 3.5684 - mean_squared_logarithmic_error: 3.5684 - val_loss: 4.3648 - val_mean_squared_logarithmic_error: 4.3648\n",
            "Epoch 16/100\n",
            "263/263 [==============================] - 0s 2ms/step - loss: 3.5672 - mean_squared_logarithmic_error: 3.5672 - val_loss: 4.3691 - val_mean_squared_logarithmic_error: 4.3691\n",
            "Epoch 17/100\n",
            "263/263 [==============================] - 0s 2ms/step - loss: 3.5661 - mean_squared_logarithmic_error: 3.5661 - val_loss: 4.3668 - val_mean_squared_logarithmic_error: 4.3668\n",
            "Epoch 18/100\n",
            "263/263 [==============================] - 0s 2ms/step - loss: 3.5652 - mean_squared_logarithmic_error: 3.5652 - val_loss: 4.3638 - val_mean_squared_logarithmic_error: 4.3638\n",
            "Epoch 19/100\n",
            "263/263 [==============================] - 0s 2ms/step - loss: 3.5629 - mean_squared_logarithmic_error: 3.5629 - val_loss: 4.3591 - val_mean_squared_logarithmic_error: 4.3591\n",
            "Epoch 20/100\n",
            "263/263 [==============================] - 0s 2ms/step - loss: 3.5605 - mean_squared_logarithmic_error: 3.5605 - val_loss: 4.3600 - val_mean_squared_logarithmic_error: 4.3600\n",
            "Epoch 21/100\n",
            "263/263 [==============================] - 0s 2ms/step - loss: 3.5590 - mean_squared_logarithmic_error: 3.5590 - val_loss: 4.3622 - val_mean_squared_logarithmic_error: 4.3622\n",
            "Epoch 22/100\n",
            "263/263 [==============================] - 0s 2ms/step - loss: 3.5584 - mean_squared_logarithmic_error: 3.5584 - val_loss: 4.3640 - val_mean_squared_logarithmic_error: 4.3640\n",
            "Epoch 23/100\n",
            "263/263 [==============================] - 0s 2ms/step - loss: 3.5564 - mean_squared_logarithmic_error: 3.5564 - val_loss: 4.3645 - val_mean_squared_logarithmic_error: 4.3645\n",
            "Epoch 24/100\n",
            "263/263 [==============================] - 0s 2ms/step - loss: 3.5542 - mean_squared_logarithmic_error: 3.5542 - val_loss: 4.3627 - val_mean_squared_logarithmic_error: 4.3627\n",
            "Epoch 25/100\n",
            "263/263 [==============================] - 0s 2ms/step - loss: 3.5535 - mean_squared_logarithmic_error: 3.5535 - val_loss: 4.3632 - val_mean_squared_logarithmic_error: 4.3632\n",
            "Epoch 26/100\n",
            "263/263 [==============================] - 0s 2ms/step - loss: 3.5510 - mean_squared_logarithmic_error: 3.5510 - val_loss: 4.3661 - val_mean_squared_logarithmic_error: 4.3661\n",
            "Epoch 27/100\n",
            "263/263 [==============================] - 0s 2ms/step - loss: 3.5492 - mean_squared_logarithmic_error: 3.5492 - val_loss: 4.3617 - val_mean_squared_logarithmic_error: 4.3617\n",
            "Epoch 28/100\n",
            "263/263 [==============================] - 0s 2ms/step - loss: 3.5498 - mean_squared_logarithmic_error: 3.5498 - val_loss: 4.3649 - val_mean_squared_logarithmic_error: 4.3649\n",
            "Epoch 29/100\n",
            "263/263 [==============================] - 0s 2ms/step - loss: 3.5470 - mean_squared_logarithmic_error: 3.5470 - val_loss: 4.3690 - val_mean_squared_logarithmic_error: 4.3690\n",
            "Epoch 30/100\n",
            "263/263 [==============================] - 0s 2ms/step - loss: 3.5456 - mean_squared_logarithmic_error: 3.5456 - val_loss: 4.3645 - val_mean_squared_logarithmic_error: 4.3645\n",
            "Epoch 31/100\n",
            "263/263 [==============================] - 0s 2ms/step - loss: 3.5445 - mean_squared_logarithmic_error: 3.5445 - val_loss: 4.3653 - val_mean_squared_logarithmic_error: 4.3653\n",
            "Epoch 32/100\n",
            "263/263 [==============================] - 0s 2ms/step - loss: 3.5436 - mean_squared_logarithmic_error: 3.5436 - val_loss: 4.3657 - val_mean_squared_logarithmic_error: 4.3657\n",
            "Epoch 33/100\n",
            "263/263 [==============================] - 0s 2ms/step - loss: 3.5413 - mean_squared_logarithmic_error: 3.5413 - val_loss: 4.3658 - val_mean_squared_logarithmic_error: 4.3658\n",
            "Epoch 34/100\n",
            "263/263 [==============================] - 0s 2ms/step - loss: 3.5404 - mean_squared_logarithmic_error: 3.5404 - val_loss: 4.3678 - val_mean_squared_logarithmic_error: 4.3678\n",
            "Epoch 35/100\n",
            "263/263 [==============================] - 0s 2ms/step - loss: 3.5389 - mean_squared_logarithmic_error: 3.5389 - val_loss: 4.3667 - val_mean_squared_logarithmic_error: 4.3667\n",
            "Epoch 36/100\n",
            "263/263 [==============================] - 0s 2ms/step - loss: 3.5372 - mean_squared_logarithmic_error: 3.5372 - val_loss: 4.3642 - val_mean_squared_logarithmic_error: 4.3642\n",
            "Epoch 37/100\n",
            "263/263 [==============================] - 0s 2ms/step - loss: 3.5364 - mean_squared_logarithmic_error: 3.5364 - val_loss: 4.3628 - val_mean_squared_logarithmic_error: 4.3628\n",
            "Epoch 38/100\n",
            "263/263 [==============================] - 0s 2ms/step - loss: 3.5338 - mean_squared_logarithmic_error: 3.5338 - val_loss: 4.3627 - val_mean_squared_logarithmic_error: 4.3627\n",
            "Epoch 39/100\n",
            "263/263 [==============================] - 0s 2ms/step - loss: 3.5332 - mean_squared_logarithmic_error: 3.5332 - val_loss: 4.3685 - val_mean_squared_logarithmic_error: 4.3685\n",
            "Epoch 40/100\n",
            "263/263 [==============================] - 0s 2ms/step - loss: 3.5316 - mean_squared_logarithmic_error: 3.5316 - val_loss: 4.3685 - val_mean_squared_logarithmic_error: 4.3685\n",
            "Epoch 41/100\n",
            "263/263 [==============================] - 1s 2ms/step - loss: 3.5306 - mean_squared_logarithmic_error: 3.5306 - val_loss: 4.3645 - val_mean_squared_logarithmic_error: 4.3645\n",
            "Epoch 42/100\n",
            "263/263 [==============================] - 1s 2ms/step - loss: 3.5283 - mean_squared_logarithmic_error: 3.5283 - val_loss: 4.3644 - val_mean_squared_logarithmic_error: 4.3644\n",
            "Epoch 43/100\n",
            "263/263 [==============================] - 0s 2ms/step - loss: 3.5280 - mean_squared_logarithmic_error: 3.5280 - val_loss: 4.3704 - val_mean_squared_logarithmic_error: 4.3704\n",
            "Epoch 44/100\n",
            "263/263 [==============================] - 0s 2ms/step - loss: 3.5254 - mean_squared_logarithmic_error: 3.5254 - val_loss: 4.3672 - val_mean_squared_logarithmic_error: 4.3672\n",
            "Epoch 45/100\n",
            "263/263 [==============================] - 0s 2ms/step - loss: 3.5253 - mean_squared_logarithmic_error: 3.5253 - val_loss: 4.3681 - val_mean_squared_logarithmic_error: 4.3681\n",
            "Epoch 46/100\n",
            "263/263 [==============================] - 0s 2ms/step - loss: 3.5219 - mean_squared_logarithmic_error: 3.5219 - val_loss: 4.3671 - val_mean_squared_logarithmic_error: 4.3671\n",
            "Epoch 47/100\n",
            "263/263 [==============================] - 0s 2ms/step - loss: 3.5222 - mean_squared_logarithmic_error: 3.5222 - val_loss: 4.3636 - val_mean_squared_logarithmic_error: 4.3636\n",
            "Epoch 48/100\n",
            "263/263 [==============================] - 1s 2ms/step - loss: 3.5196 - mean_squared_logarithmic_error: 3.5196 - val_loss: 4.3669 - val_mean_squared_logarithmic_error: 4.3669\n",
            "Epoch 49/100\n",
            "263/263 [==============================] - 0s 2ms/step - loss: 3.5201 - mean_squared_logarithmic_error: 3.5201 - val_loss: 4.3685 - val_mean_squared_logarithmic_error: 4.3685\n",
            "Epoch 50/100\n",
            "263/263 [==============================] - 1s 2ms/step - loss: 3.5177 - mean_squared_logarithmic_error: 3.5177 - val_loss: 4.3633 - val_mean_squared_logarithmic_error: 4.3633\n",
            "Epoch 51/100\n",
            "263/263 [==============================] - 0s 2ms/step - loss: 3.5187 - mean_squared_logarithmic_error: 3.5187 - val_loss: 4.3685 - val_mean_squared_logarithmic_error: 4.3685\n",
            "Epoch 52/100\n",
            "263/263 [==============================] - 0s 2ms/step - loss: 3.5159 - mean_squared_logarithmic_error: 3.5159 - val_loss: 4.3675 - val_mean_squared_logarithmic_error: 4.3675\n",
            "Epoch 53/100\n",
            "263/263 [==============================] - 0s 2ms/step - loss: 3.5138 - mean_squared_logarithmic_error: 3.5138 - val_loss: 4.3665 - val_mean_squared_logarithmic_error: 4.3665\n",
            "Epoch 54/100\n",
            "263/263 [==============================] - 0s 2ms/step - loss: 3.5140 - mean_squared_logarithmic_error: 3.5140 - val_loss: 4.3708 - val_mean_squared_logarithmic_error: 4.3708\n",
            "Epoch 55/100\n",
            "263/263 [==============================] - 0s 2ms/step - loss: 3.5120 - mean_squared_logarithmic_error: 3.5120 - val_loss: 4.3662 - val_mean_squared_logarithmic_error: 4.3662\n",
            "Epoch 56/100\n",
            "263/263 [==============================] - 0s 2ms/step - loss: 3.5119 - mean_squared_logarithmic_error: 3.5119 - val_loss: 4.3639 - val_mean_squared_logarithmic_error: 4.3639\n",
            "Epoch 57/100\n",
            "263/263 [==============================] - 0s 2ms/step - loss: 3.5090 - mean_squared_logarithmic_error: 3.5090 - val_loss: 4.3595 - val_mean_squared_logarithmic_error: 4.3595\n",
            "Epoch 58/100\n",
            "263/263 [==============================] - 0s 2ms/step - loss: 3.5084 - mean_squared_logarithmic_error: 3.5084 - val_loss: 4.3619 - val_mean_squared_logarithmic_error: 4.3619\n",
            "Epoch 59/100\n",
            "263/263 [==============================] - 0s 2ms/step - loss: 3.5058 - mean_squared_logarithmic_error: 3.5058 - val_loss: 4.3646 - val_mean_squared_logarithmic_error: 4.3646\n",
            "Epoch 60/100\n",
            "263/263 [==============================] - 0s 2ms/step - loss: 3.5062 - mean_squared_logarithmic_error: 3.5062 - val_loss: 4.3745 - val_mean_squared_logarithmic_error: 4.3745\n",
            "Epoch 61/100\n",
            "263/263 [==============================] - 0s 2ms/step - loss: 3.5061 - mean_squared_logarithmic_error: 3.5061 - val_loss: 4.3688 - val_mean_squared_logarithmic_error: 4.3688\n",
            "Epoch 62/100\n",
            "263/263 [==============================] - 0s 2ms/step - loss: 3.5050 - mean_squared_logarithmic_error: 3.5050 - val_loss: 4.3634 - val_mean_squared_logarithmic_error: 4.3634\n",
            "Epoch 63/100\n",
            "263/263 [==============================] - 0s 2ms/step - loss: 3.5033 - mean_squared_logarithmic_error: 3.5033 - val_loss: 4.3656 - val_mean_squared_logarithmic_error: 4.3656\n",
            "Epoch 64/100\n",
            "263/263 [==============================] - 0s 2ms/step - loss: 3.5015 - mean_squared_logarithmic_error: 3.5015 - val_loss: 4.3691 - val_mean_squared_logarithmic_error: 4.3691\n",
            "Epoch 65/100\n",
            "263/263 [==============================] - 0s 2ms/step - loss: 3.5020 - mean_squared_logarithmic_error: 3.5020 - val_loss: 4.3695 - val_mean_squared_logarithmic_error: 4.3695\n",
            "Epoch 66/100\n",
            "263/263 [==============================] - 0s 2ms/step - loss: 3.5008 - mean_squared_logarithmic_error: 3.5008 - val_loss: 4.3672 - val_mean_squared_logarithmic_error: 4.3672\n",
            "Epoch 67/100\n",
            "263/263 [==============================] - 0s 2ms/step - loss: 3.4998 - mean_squared_logarithmic_error: 3.4998 - val_loss: 4.3611 - val_mean_squared_logarithmic_error: 4.3611\n",
            "Epoch 68/100\n",
            "263/263 [==============================] - 0s 2ms/step - loss: 3.5001 - mean_squared_logarithmic_error: 3.5001 - val_loss: 4.3642 - val_mean_squared_logarithmic_error: 4.3642\n",
            "Epoch 69/100\n",
            "263/263 [==============================] - 0s 2ms/step - loss: 3.4977 - mean_squared_logarithmic_error: 3.4977 - val_loss: 4.3741 - val_mean_squared_logarithmic_error: 4.3741\n",
            "Epoch 70/100\n",
            "263/263 [==============================] - 0s 2ms/step - loss: 3.4965 - mean_squared_logarithmic_error: 3.4965 - val_loss: 4.3667 - val_mean_squared_logarithmic_error: 4.3667\n",
            "Epoch 71/100\n",
            "263/263 [==============================] - 0s 2ms/step - loss: 3.4965 - mean_squared_logarithmic_error: 3.4965 - val_loss: 4.3651 - val_mean_squared_logarithmic_error: 4.3651\n",
            "Epoch 72/100\n",
            "263/263 [==============================] - 0s 2ms/step - loss: 3.4942 - mean_squared_logarithmic_error: 3.4942 - val_loss: 4.3674 - val_mean_squared_logarithmic_error: 4.3674\n",
            "Epoch 73/100\n",
            "263/263 [==============================] - 0s 2ms/step - loss: 3.4935 - mean_squared_logarithmic_error: 3.4935 - val_loss: 4.3641 - val_mean_squared_logarithmic_error: 4.3641\n",
            "Epoch 74/100\n",
            "263/263 [==============================] - 0s 2ms/step - loss: 3.4943 - mean_squared_logarithmic_error: 3.4943 - val_loss: 4.3690 - val_mean_squared_logarithmic_error: 4.3690\n",
            "Epoch 75/100\n",
            "263/263 [==============================] - 0s 2ms/step - loss: 3.4926 - mean_squared_logarithmic_error: 3.4926 - val_loss: 4.3719 - val_mean_squared_logarithmic_error: 4.3719\n",
            "Epoch 76/100\n",
            "263/263 [==============================] - 0s 2ms/step - loss: 3.4912 - mean_squared_logarithmic_error: 3.4912 - val_loss: 4.3716 - val_mean_squared_logarithmic_error: 4.3716\n",
            "Epoch 77/100\n",
            "263/263 [==============================] - 0s 2ms/step - loss: 3.4892 - mean_squared_logarithmic_error: 3.4892 - val_loss: 4.3768 - val_mean_squared_logarithmic_error: 4.3768\n",
            "Epoch 78/100\n",
            "263/263 [==============================] - 0s 2ms/step - loss: 3.4890 - mean_squared_logarithmic_error: 3.4890 - val_loss: 4.3749 - val_mean_squared_logarithmic_error: 4.3749\n",
            "Epoch 79/100\n",
            "263/263 [==============================] - 0s 2ms/step - loss: 3.4870 - mean_squared_logarithmic_error: 3.4870 - val_loss: 4.3666 - val_mean_squared_logarithmic_error: 4.3666\n",
            "Epoch 80/100\n",
            "263/263 [==============================] - 0s 2ms/step - loss: 3.4869 - mean_squared_logarithmic_error: 3.4869 - val_loss: 4.3630 - val_mean_squared_logarithmic_error: 4.3630\n",
            "Epoch 81/100\n",
            "263/263 [==============================] - 0s 2ms/step - loss: 3.4861 - mean_squared_logarithmic_error: 3.4861 - val_loss: 4.3618 - val_mean_squared_logarithmic_error: 4.3618\n",
            "Epoch 82/100\n",
            "263/263 [==============================] - 0s 2ms/step - loss: 3.4849 - mean_squared_logarithmic_error: 3.4849 - val_loss: 4.3727 - val_mean_squared_logarithmic_error: 4.3727\n",
            "Epoch 83/100\n",
            "263/263 [==============================] - 0s 2ms/step - loss: 3.4846 - mean_squared_logarithmic_error: 3.4846 - val_loss: 4.3694 - val_mean_squared_logarithmic_error: 4.3694\n",
            "Epoch 84/100\n",
            "263/263 [==============================] - 0s 2ms/step - loss: 3.4841 - mean_squared_logarithmic_error: 3.4841 - val_loss: 4.3592 - val_mean_squared_logarithmic_error: 4.3592\n",
            "Epoch 85/100\n",
            "263/263 [==============================] - 0s 2ms/step - loss: 3.4816 - mean_squared_logarithmic_error: 3.4816 - val_loss: 4.3674 - val_mean_squared_logarithmic_error: 4.3674\n",
            "Epoch 86/100\n",
            "263/263 [==============================] - 0s 2ms/step - loss: 3.4802 - mean_squared_logarithmic_error: 3.4802 - val_loss: 4.3695 - val_mean_squared_logarithmic_error: 4.3695\n",
            "Epoch 87/100\n",
            "263/263 [==============================] - 0s 2ms/step - loss: 3.4795 - mean_squared_logarithmic_error: 3.4795 - val_loss: 4.3639 - val_mean_squared_logarithmic_error: 4.3639\n",
            "Epoch 88/100\n",
            "263/263 [==============================] - 0s 2ms/step - loss: 3.4793 - mean_squared_logarithmic_error: 3.4793 - val_loss: 4.3606 - val_mean_squared_logarithmic_error: 4.3606\n",
            "Epoch 89/100\n",
            "263/263 [==============================] - 0s 2ms/step - loss: 3.4765 - mean_squared_logarithmic_error: 3.4765 - val_loss: 4.3631 - val_mean_squared_logarithmic_error: 4.3631\n",
            "Epoch 90/100\n",
            "263/263 [==============================] - 0s 2ms/step - loss: 3.4775 - mean_squared_logarithmic_error: 3.4775 - val_loss: 4.3571 - val_mean_squared_logarithmic_error: 4.3571\n",
            "Epoch 91/100\n",
            "263/263 [==============================] - 0s 2ms/step - loss: 3.4753 - mean_squared_logarithmic_error: 3.4753 - val_loss: 4.3552 - val_mean_squared_logarithmic_error: 4.3552\n",
            "Epoch 92/100\n",
            "263/263 [==============================] - 1s 2ms/step - loss: 3.4750 - mean_squared_logarithmic_error: 3.4750 - val_loss: 4.3556 - val_mean_squared_logarithmic_error: 4.3556\n",
            "Epoch 93/100\n",
            "263/263 [==============================] - 0s 2ms/step - loss: 3.4737 - mean_squared_logarithmic_error: 3.4737 - val_loss: 4.3635 - val_mean_squared_logarithmic_error: 4.3635\n",
            "Epoch 94/100\n",
            "263/263 [==============================] - 0s 2ms/step - loss: 3.4724 - mean_squared_logarithmic_error: 3.4724 - val_loss: 4.3662 - val_mean_squared_logarithmic_error: 4.3662\n",
            "Epoch 95/100\n",
            "263/263 [==============================] - 0s 2ms/step - loss: 3.4711 - mean_squared_logarithmic_error: 3.4711 - val_loss: 4.3646 - val_mean_squared_logarithmic_error: 4.3646\n",
            "Epoch 96/100\n",
            "263/263 [==============================] - 0s 2ms/step - loss: 3.4708 - mean_squared_logarithmic_error: 3.4708 - val_loss: 4.3604 - val_mean_squared_logarithmic_error: 4.3604\n",
            "Epoch 97/100\n",
            "263/263 [==============================] - 0s 2ms/step - loss: 3.4691 - mean_squared_logarithmic_error: 3.4691 - val_loss: 4.3634 - val_mean_squared_logarithmic_error: 4.3634\n",
            "Epoch 98/100\n",
            "263/263 [==============================] - 0s 2ms/step - loss: 3.4672 - mean_squared_logarithmic_error: 3.4672 - val_loss: 4.3615 - val_mean_squared_logarithmic_error: 4.3615\n",
            "Epoch 99/100\n",
            "263/263 [==============================] - 0s 2ms/step - loss: 3.4667 - mean_squared_logarithmic_error: 3.4667 - val_loss: 4.3627 - val_mean_squared_logarithmic_error: 4.3627\n",
            "Epoch 100/100\n",
            "263/263 [==============================] - 0s 2ms/step - loss: 3.4653 - mean_squared_logarithmic_error: 3.4653 - val_loss: 4.3578 - val_mean_squared_logarithmic_error: 4.3578\n"
          ],
          "name": "stdout"
        }
      ]
    },
    {
      "cell_type": "code",
      "metadata": {
        "colab": {
          "base_uri": "https://localhost:8080/",
          "height": 283
        },
        "id": "2x7_v_tMx1pd",
        "outputId": "fb846794-f15f-4dbd-f11b-fd1a1a0381c0"
      },
      "source": [
        "plot_loss(history)"
      ],
      "execution_count": 21,
      "outputs": [
        {
          "output_type": "display_data",
          "data": {
            "image/png": "[encoded data removed]",
            "text/plain": [
              "<Figure size 432x288 with 1 Axes>"
            ]
          },
          "metadata": {
            "tags": [],
            "needs_background": "light"
          }
        }
      ]
    },
    {
      "cell_type": "code",
      "metadata": {
        "id": "2MWkdHYIbWtN",
        "colab": {
          "base_uri": "https://localhost:8080/"
        },
        "outputId": "51ad2247-0964-420f-8875-82f37d02889b"
      },
      "source": [
        "# Submission file\n",
        "y_pred = model.predict(df_test_stand[x_col])\n",
        "dummy = pd.DataFrame()\n",
        "dummy[\"Id\"] = df_test.index\n",
        "dummy[\"Predicted\"]=y_pred\n",
        "dummy.to_csv(\"submission.csv\", sep=',' ,index=False)\n",
        "len(y_pred)"
      ],
      "execution_count": 22,
      "outputs": [
        {
          "output_type": "execute_result",
          "data": {
            "text/plain": [
              "2500"
            ]
          },
          "metadata": {
            "tags": []
          },
          "execution_count": 22
        }
      ]
    },
    {
      "cell_type": "code",
      "metadata": {
        "id": "fW-4tO8lyQw7"
      },
      "source": [
        ""
      ],
      "execution_count": null,
      "outputs": []
    }
  ]
}